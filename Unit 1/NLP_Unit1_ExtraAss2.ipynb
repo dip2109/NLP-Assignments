{
  "nbformat": 4,
  "nbformat_minor": 0,
  "metadata": {
    "colab": {
      "provenance": []
    },
    "kernelspec": {
      "name": "python3",
      "display_name": "Python 3"
    },
    "language_info": {
      "name": "python"
    }
  },
  "cells": [
    {
      "cell_type": "code",
      "execution_count": null,
      "metadata": {
        "id": "jWagAs5uBW95"
      },
      "outputs": [],
      "source": [
        "# Lab Assignment 2: Part-of-Speech (POS) Tagging\n",
        "# •\tLoad a dataset (e.g., news articles or Wikipedia text).\n",
        "# •\tUse NLTK’s or spaCy’s POS tagger to classify words into parts of speech.\n",
        "# •\tAnalyze the frequency of different POS categories in the text."
      ]
    },
    {
      "cell_type": "code",
      "source": [
        "import spacy\n",
        "from collections import Counter\n",
        "import matplotlib.pyplot as plt\n",
        "\n",
        "# Load spaCy language model\n",
        "nlp = spacy.load(\"en_core_web_sm\")\n",
        "\n",
        "# Sample text\n",
        "text = \"\"\"\n",
        "Google announced a new AI-powered search feature during its annual I/O event.\n",
        "The feature is expected to roll out globally by the end of the year.\n",
        "Developers and businesses will benefit greatly from this update.\n",
        "\"\"\"\n",
        "\n",
        "# Process the text with spaCy\n",
        "doc = nlp(text)\n",
        "\n",
        "# POS Tagging\n",
        "print(\"\\n=== POS Tagging (spaCy) ===\")\n",
        "for token in doc:\n",
        "    print(f\"{token.text:<15} {token.pos_:<10} {token.tag_}\")\n",
        "\n",
        "# Frequency analysis of POS tags\n",
        "pos_counts = Counter(token.pos_ for token in doc)\n",
        "\n",
        "print(\"\\n=== POS Tag Frequencies ===\")\n",
        "for pos, freq in pos_counts.items():\n",
        "    print(f\"{pos:<10}: {freq}\")\n",
        "\n",
        "# Optional: Visualize POS tag distribution\n",
        "plt.figure(figsize=(8, 4))\n",
        "plt.bar(pos_counts.keys(), pos_counts.values(), color='skyblue')\n",
        "plt.title(\"Part-of-Speech Frequency\")\n",
        "plt.xlabel(\"POS Tags\")\n",
        "plt.ylabel(\"Frequency\")\n",
        "plt.tight_layout()\n",
        "plt.show()"
      ],
      "metadata": {
        "colab": {
          "base_uri": "https://localhost:8080/",
          "height": 1000
        },
        "id": "rxPpiO2eBdGN",
        "outputId": "f08fb00a-337d-41dc-e1a2-f9518fbd215c"
      },
      "execution_count": null,
      "outputs": [
        {
          "output_type": "stream",
          "name": "stdout",
          "text": [
            "\n",
            "=== POS Tagging (spaCy) ===\n",
            "\n",
            "               SPACE      _SP\n",
            "Google          PROPN      NNP\n",
            "announced       VERB       VBD\n",
            "a               DET        DT\n",
            "new             ADJ        JJ\n",
            "AI              PROPN      NNP\n",
            "-               PUNCT      HYPH\n",
            "powered         VERB       VBN\n",
            "search          NOUN       NN\n",
            "feature         NOUN       NN\n",
            "during          ADP        IN\n",
            "its             PRON       PRP$\n",
            "annual          ADJ        JJ\n",
            "I               NOUN       NN\n",
            "/               SYM        SYM\n",
            "O               NOUN       NN\n",
            "event           NOUN       NN\n",
            ".               PUNCT      .\n",
            "\n",
            "               SPACE      _SP\n",
            "The             DET        DT\n",
            "feature         NOUN       NN\n",
            "is              AUX        VBZ\n",
            "expected        VERB       VBN\n",
            "to              PART       TO\n",
            "roll            VERB       VB\n",
            "out             ADP        RP\n",
            "globally        ADV        RB\n",
            "by              ADP        IN\n",
            "the             DET        DT\n",
            "end             NOUN       NN\n",
            "of              ADP        IN\n",
            "the             DET        DT\n",
            "year            NOUN       NN\n",
            ".               PUNCT      .\n",
            "\n",
            "               SPACE      _SP\n",
            "Developers      NOUN       NNS\n",
            "and             CCONJ      CC\n",
            "businesses      NOUN       NNS\n",
            "will            AUX        MD\n",
            "benefit         VERB       VB\n",
            "greatly         ADV        RB\n",
            "from            ADP        IN\n",
            "this            DET        DT\n",
            "update          NOUN       NN\n",
            ".               PUNCT      .\n",
            "\n",
            "               SPACE      _SP\n",
            "\n",
            "=== POS Tag Frequencies ===\n",
            "SPACE     : 4\n",
            "PROPN     : 2\n",
            "VERB      : 5\n",
            "DET       : 5\n",
            "ADJ       : 2\n",
            "PUNCT     : 4\n",
            "NOUN      : 11\n",
            "ADP       : 5\n",
            "PRON      : 1\n",
            "SYM       : 1\n",
            "AUX       : 2\n",
            "PART      : 1\n",
            "ADV       : 2\n",
            "CCONJ     : 1\n"
          ]
        },
        {
          "output_type": "display_data",
          "data": {
            "text/plain": [
              "<Figure size 800x400 with 1 Axes>"
            ],
            "image/png": "[encoded data removed]"
          },
          "metadata": {}
        }
      ]
    }
  ]
}