{
  "nbformat": 4,
  "nbformat_minor": 0,
  "metadata": {
    "colab": {
      "provenance": []
    },
    "kernelspec": {
      "name": "python3",
      "display_name": "Python 3"
    },
    "language_info": {
      "name": "python"
    }
  },
  "cells": [
    {
      "cell_type": "code",
      "execution_count": null,
      "metadata": {
        "id": "egEIMHz9FZFn"
      },
      "outputs": [],
      "source": [
        "# Unit II: Language Syntax and Semantics (Advanced)\n",
        "# Lab Assignment 3: Morphological Analysis with Finite State Transducers (FST) and Deep Learning\n",
        "# •\tImplement a Finite State Transducer (FST) for morphological parsing (e.g., handling verb conjugations and noun declensions in an Indian language like Hindi or Sanskrit).\n",
        "# •\tTrain a sequence-to-sequence deep learning model (LSTM-based) to predict morphemes for unseen words.\n",
        "# •\tCompare performance between FST and deep learning approaches."
      ]
    },
    {
      "cell_type": "code",
      "source": [
        "# Hindi FST example (simplified)\n",
        "rules = {\n",
        "    'ता': 'ता',  # nominalizer\n",
        "    'ना': 'ना',  # infinitive\n",
        "    'ता हूँ': 'present tense (1st person)'\n",
        "}\n",
        "\n",
        "def fst_hindi(word):\n",
        "    for suffix in rules:\n",
        "        if word.endswith(suffix):\n",
        "            root = word.replace(suffix, '')\n",
        "            return f\"{word} → {root} + {rules[suffix]}\"\n",
        "    return f\"{word} → (no match)\"\n",
        "\n",
        "# Example\n",
        "words = ['करता', 'सोना', 'पढ़ता हूँ']\n",
        "for w in words:\n",
        "    print(fst_hindi(w))\n"
      ],
      "metadata": {
        "colab": {
          "base_uri": "https://localhost:8080/"
        },
        "id": "BFG9HLMEITYB",
        "outputId": "4853cd54-3ade-4407-9bbb-07a0e8b27e35"
      },
      "execution_count": null,
      "outputs": [
        {
          "output_type": "stream",
          "name": "stdout",
          "text": [
            "करता → कर + ता\n",
            "सोना → सो + ना\n",
            "पढ़ता हूँ → पढ़ + present tense (1st person)\n"
          ]
        }
      ]
    },
    {
      "cell_type": "code",
      "source": [
        "# Install dependencies\n",
        "!pip install -q tensorflow\n",
        "\n",
        "import tensorflow as tf\n",
        "from tensorflow.keras.models import Sequential\n",
        "from tensorflow.keras.layers import LSTM, Dense, Embedding, TimeDistributed\n",
        "from tensorflow.keras.preprocessing.sequence import pad_sequences\n",
        "from tensorflow.keras.utils import to_categorical\n",
        "import numpy as np\n",
        "\n",
        "# Example dataset (word → morpheme sequences)\n",
        "data = [\n",
        "    (\"running\", [\"run\", \"ing\"]),\n",
        "    (\"played\", [\"play\", \"ed\"]),\n",
        "    (\"happier\", [\"happy\", \"er\"])\n",
        "]\n",
        "\n",
        "# Build vocab\n",
        "word_vocab = sorted(set(\"\".join(w for w, _ in data)))\n",
        "morph_vocab = sorted(set(m for _, mlist in data for m in mlist))\n",
        "\n",
        "char2idx = {c: i + 1 for i, c in enumerate(word_vocab)}\n",
        "morph2idx = {m: i + 1 for i, m in enumerate(morph_vocab)}\n",
        "\n",
        "# Prepare input/output\n",
        "X = [pad_sequences([[char2idx[c] for c in w]], maxlen=10)[0] for w, _ in data]\n",
        "y = [pad_sequences([[morph2idx[m] for m in morphemes]], maxlen=10)[0] for _, morphemes in data] # Change maxlen to 10\n",
        "\n",
        "X = np.array(X)\n",
        "y = to_categorical(y, num_classes=len(morph2idx)+1)\n",
        "\n",
        "# Model\n",
        "model = Sequential([\n",
        "    Embedding(input_dim=len(char2idx)+1, output_dim=32, input_length=10),\n",
        "    LSTM(64, return_sequences=True), # Return sequences\n",
        "    TimeDistributed(Dense(len(morph2idx)+1, activation='softmax'))\n",
        "])\n",
        "\n",
        "model.compile(optimizer='adam', loss='categorical_crossentropy', metrics=['accuracy'])\n",
        "model.fit(X, y, epochs=30, verbose=0)\n",
        "\n",
        "# Predict\n",
        "def predict_morphemes(word):\n",
        "    x = pad_sequences([[char2idx.get(c, 0) for c in word]], maxlen=10)\n",
        "    pred = model.predict(x)[0]\n",
        "    return pred\n",
        "\n",
        "print(\"Prediction for 'talking':\", predict_morphemes(\"talking\"))"
      ],
      "metadata": {
        "colab": {
          "base_uri": "https://localhost:8080/"
        },
        "id": "t3bcbyy4Iiuz",
        "outputId": "2212af97-3f3a-4166-eab9-e8dcd9ceb96a"
      },
      "execution_count": null,
      "outputs": [
        {
          "output_type": "stream",
          "name": "stdout",
          "text": [
            "\u001b[1m1/1\u001b[0m \u001b[32m━━━━━━━━━━━━━━━━━━━━\u001b[0m\u001b[37m\u001b[0m \u001b[1m0s\u001b[0m 277ms/step\n",
            "Prediction for 'talking': [[0.2270834  0.13824116 0.13789883 0.11410774 0.12512286 0.12723267\n",
            "  0.13031334]\n",
            " [0.33757484 0.12883696 0.12633653 0.08621368 0.10266207 0.1064572\n",
            "  0.11191867]\n",
            " [0.47465336 0.11179635 0.106578   0.06000805 0.07707695 0.08149742\n",
            "  0.08838977]\n",
            " [0.6156067  0.0894434  0.08235191 0.03840302 0.05298768 0.05698854\n",
            "  0.06421878]\n",
            " [0.6561712  0.08323544 0.07397082 0.03327045 0.04604111 0.04951971\n",
            "  0.05779132]\n",
            " [0.6844377  0.07856555 0.06814083 0.03000706 0.0413129  0.044773\n",
            "  0.05276303]\n",
            " [0.7850775  0.05685365 0.04898205 0.01777136 0.02653614 0.0292461\n",
            "  0.03553324]\n",
            " [0.78457993 0.05728573 0.0485362  0.01825638 0.02656362 0.02830995\n",
            "  0.03646814]\n",
            " [0.79154813 0.05533511 0.04702748 0.01753536 0.02585523 0.02706832\n",
            "  0.03563026]\n",
            " [0.7782867  0.05884828 0.04861753 0.01932239 0.02822301 0.02918444\n",
            "  0.03751771]]\n"
          ]
        }
      ]
    },
    {
      "cell_type": "code",
      "source": [],
      "metadata": {
        "id": "I_CaPKGGIixS"
      },
      "execution_count": null,
      "outputs": []
    },
    {
      "cell_type": "code",
      "source": [],
      "metadata": {
        "id": "aALG9I0SIi02"
      },
      "execution_count": null,
      "outputs": []
    }
  ]
}