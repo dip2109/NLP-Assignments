{
  "nbformat": 4,
  "nbformat_minor": 0,
  "metadata": {
    "colab": {
      "provenance": []
    },
    "kernelspec": {
      "name": "python3",
      "display_name": "Python 3"
    },
    "language_info": {
      "name": "python"
    }
  },
  "cells": [
    {
      "cell_type": "code",
      "execution_count": null,
      "metadata": {
        "id": "fUkNpwWAFZHU"
      },
      "outputs": [],
      "source": [
        "# Lab Assignment 4: Probabilistic Parsing with CYK Algorithm and Neural Dependency Parsing\n",
        "# •\tImplement the Cocke-Younger-Kasami (CYK) algorithm for parsing Context-Free Grammars (CFGs).\n",
        "# •\tTrain a Neural Dependency Parser (e.g., using Stanza or spaCy) on a dataset like Universal Dependencies.\n",
        "# •\tCompare traditional parsing algorithms with neural parsing models in terms of accuracy and efficiency.\n"
      ]
    },
    {
      "cell_type": "code",
      "source": [
        "# Example CYK for CFG: S → NP VP, NP → Det N, VP → V NP\n",
        "grammar = {\n",
        "    'S': [('NP', 'VP')],\n",
        "    'NP': [('Det', 'N')],\n",
        "    'VP': [('V', 'NP')],\n",
        "    'Det': ['the'],\n",
        "    'N': ['cat', 'dog'],\n",
        "    'V': ['chased', 'saw']\n",
        "}\n",
        "\n",
        "def cyk_parser(words, grammar):\n",
        "    n = len(words)\n",
        "    table = [[set() for _ in range(n)] for _ in range(n)]\n",
        "\n",
        "    for j in range(n):\n",
        "        for lhs, rhs in grammar.items():\n",
        "            if isinstance(rhs, list) and words[j] in rhs:\n",
        "                table[j][j].add(lhs)\n",
        "\n",
        "        for i in range(j-1, -1, -1):\n",
        "            for k in range(i, j):\n",
        "                for lhs, productions in grammar.items():\n",
        "                    if isinstance(productions, list) and all(isinstance(p, tuple) for p in productions):\n",
        "                        for prod in productions:\n",
        "                            if prod[0] in table[i][k] and prod[1] in table[k+1][j]:\n",
        "                                table[i][j].add(lhs)\n",
        "    return 'S' in table[0][n-1]\n",
        "\n",
        "print(\"Sentence 'the cat chased the dog' is grammatically valid?\",\n",
        "      cyk_parser(['the', 'cat', 'chased', 'the', 'dog'], grammar))"
      ],
      "metadata": {
        "id": "GA0wqv3hIsq-"
      },
      "execution_count": null,
      "outputs": []
    },
    {
      "cell_type": "code",
      "source": [
        "# Install stanza\n",
        "!pip install -q stanza\n",
        "import stanza\n",
        "\n",
        "# Download and load English UD model\n",
        "stanza.download('en')\n",
        "nlp = stanza.Pipeline('en')\n",
        "\n",
        "# Parse a sentence\n",
        "doc = nlp(\"The cat chased the dog.\")\n",
        "doc.sentences[0].print_dependencies()"
      ],
      "metadata": {
        "id": "i4nurjc5Isud"
      },
      "execution_count": null,
      "outputs": []
    }
  ]
}