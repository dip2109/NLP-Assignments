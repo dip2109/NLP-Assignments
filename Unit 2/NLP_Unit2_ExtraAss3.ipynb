{
  "nbformat": 4,
  "nbformat_minor": 0,
  "metadata": {
    "colab": {
      "provenance": []
    },
    "kernelspec": {
      "name": "python3",
      "display_name": "Python 3"
    },
    "language_info": {
      "name": "python"
    }
  },
  "cells": [
    {
      "cell_type": "code",
      "execution_count": null,
      "metadata": {
        "id": "b-PWHn1HCpyx"
      },
      "outputs": [],
      "source": [
        "# Lab Assignment 3: Morphological Analysis using Finite State Transducers (FST)\n",
        "# •\tImplement morphological parsing using a Finite State Transducer (FST).\n",
        "# •\tTake a list of words and break them into their morphemes (root, affix, suffix).\n",
        "# •\tExample: running → run + ing, happier → happy + er.\n"
      ]
    },
    {
      "cell_type": "code",
      "source": [
        "# Step 1: Define a list of words\n",
        "words = ['running', 'happier', 'played', 'playing', 'bigger', 'runner', 'walked', 'talking']"
      ],
      "metadata": {
        "id": "pHR_FMDSCxzK"
      },
      "execution_count": null,
      "outputs": []
    },
    {
      "cell_type": "code",
      "source": [
        "# Step 2: Define suffix rules (this simulates the FST transitions)\n",
        "suffix_rules = {\n",
        "    'ing': '',\n",
        "    'ed': '',\n",
        "    'er': '',\n",
        "    'est': '',\n",
        "    's': '',\n",
        "    'ies': 'y',\n",
        "    'ier': 'y',\n",
        "}"
      ],
      "metadata": {
        "id": "SU2FCmqtFE11"
      },
      "execution_count": null,
      "outputs": []
    },
    {
      "cell_type": "code",
      "source": [
        "# Step 3: Function to perform morphological analysis\n",
        "def morphological_parse(word):\n",
        "    for suffix in sorted(suffix_rules.keys(), key=lambda x: -len(x)):  # check longest suffix first\n",
        "        if word.endswith(suffix):\n",
        "            root_candidate = word[:-len(suffix)]\n",
        "            replacement = suffix_rules[suffix]\n",
        "            if replacement:\n",
        "                root = root_candidate + replacement\n",
        "            else:\n",
        "                root = root_candidate\n",
        "            return f\"{word} → {root} + {suffix}\"\n",
        "    return f\"{word} → {word} + (no suffix)\""
      ],
      "metadata": {
        "id": "LBKemhjBFE4C"
      },
      "execution_count": null,
      "outputs": []
    },
    {
      "cell_type": "code",
      "source": [
        "# Step 4: Run the analysis\n",
        "for w in words:\n",
        "    print(morphological_parse(w))"
      ],
      "metadata": {
        "colab": {
          "base_uri": "https://localhost:8080/"
        },
        "id": "xmtBWNHjFE8B",
        "outputId": "4e12d299-d964-4713-9836-5ab1fd906b9f"
      },
      "execution_count": null,
      "outputs": [
        {
          "output_type": "stream",
          "name": "stdout",
          "text": [
            "running → runn + ing\n",
            "happier → happy + ier\n",
            "played → play + ed\n",
            "playing → play + ing\n",
            "bigger → bigg + er\n",
            "runner → runn + er\n",
            "walked → walk + ed\n",
            "talking → talk + ing\n"
          ]
        }
      ]
    }
  ]
}