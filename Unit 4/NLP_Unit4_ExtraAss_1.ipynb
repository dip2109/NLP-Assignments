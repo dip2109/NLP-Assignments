{
  "nbformat": 4,
  "nbformat_minor": 0,
  "metadata": {
    "colab": {
      "provenance": []
    },
    "kernelspec": {
      "name": "python3",
      "display_name": "Python 3"
    },
    "language_info": {
      "name": "python"
    }
  },
  "cells": [
    {
      "cell_type": "code",
      "execution_count": null,
      "metadata": {
        "id": "wnmAZh9dvQdH"
      },
      "outputs": [],
      "source": [
        "# Lab Assignment 1: Implementing the Vector Space Model for Information Retrieval\n",
        "# •\tImplement a simple search engine using the TF-IDF vectorization method.\n",
        "# •\tUse a small dataset of documents and allow the user to input a query.\n",
        "# •\tCompute cosine similarity to retrieve the most relevant documents.\n",
        "# •\tUse Scikit-learn’s TfidfVectorizer for vectorization.\n"
      ]
    },
    {
      "cell_type": "code",
      "source": [
        "from sklearn.feature_extraction.text import TfidfVectorizer\n",
        "from sklearn.metrics.pairwise import cosine_similarity\n",
        "import numpy as np\n",
        "\n",
        "# Sample document dataset\n",
        "documents = [\n",
        "    \"Machine learning is the study of computer algorithms that improve automatically through experience.\",\n",
        "    \"Artificial intelligence is intelligence demonstrated by machines, in contrast to the natural intelligence displayed by humans.\",\n",
        "    \"Natural language processing enables computers to understand and process human languages.\",\n",
        "    \"Deep learning is a subset of machine learning involving neural networks with many layers.\",\n",
        "    \"Information retrieval deals with finding relevant information in large collections of data.\"\n",
        "]\n",
        "\n",
        "# Initialize the vectorizer and fit to documents\n",
        "vectorizer = TfidfVectorizer()\n",
        "tfidf_matrix = vectorizer.fit_transform(documents)\n",
        "\n",
        "# Accept user query\n",
        "query = input(\"Enter your search query: \")\n",
        "\n",
        "# Transform query using the same vectorizer\n",
        "query_vector = vectorizer.transform([query])\n",
        "\n",
        "# Compute cosine similarities\n",
        "cosine_similarities = cosine_similarity(query_vector, tfidf_matrix).flatten()\n",
        "\n",
        "# Get top matching documents\n",
        "top_n = 3  # Change this to show more/less results\n",
        "top_indices = cosine_similarities.argsort()[-top_n:][::-1]\n",
        "\n",
        "# Display results\n",
        "print(\"\\nTop matching documents:\")\n",
        "for idx in top_indices:\n",
        "    print(f\"\\nScore: {cosine_similarities[idx]:.4f}\")\n",
        "    print(f\"Document {idx + 1}: {documents[idx]}\")"
      ],
      "metadata": {
        "colab": {
          "base_uri": "https://localhost:8080/"
        },
        "id": "Nr_MXbKFvXGj",
        "outputId": "ea2e7897-965f-49e1-b6a0-568e29019356"
      },
      "execution_count": null,
      "outputs": [
        {
          "output_type": "stream",
          "name": "stdout",
          "text": [
            "Enter your search query: machine learning\n",
            "\n",
            "Top matching documents:\n",
            "\n",
            "Score: 0.4982\n",
            "Document 4: Deep learning is a subset of machine learning involving neural networks with many layers.\n",
            "\n",
            "Score: 0.3464\n",
            "Document 1: Machine learning is the study of computer algorithms that improve automatically through experience.\n",
            "\n",
            "Score: 0.0000\n",
            "Document 5: Information retrieval deals with finding relevant information in large collections of data.\n"
          ]
        }
      ]
    },
    {
      "cell_type": "code",
      "source": [],
      "metadata": {
        "id": "bM-AKBFavXIt"
      },
      "execution_count": null,
      "outputs": []
    },
    {
      "cell_type": "code",
      "source": [],
      "metadata": {
        "id": "SGvWj74tvXMQ"
      },
      "execution_count": null,
      "outputs": []
    }
  ]
}