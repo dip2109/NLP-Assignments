{
 "cells": [
  {
   "cell_type": "code",
   "execution_count": 1,
   "metadata": {},
   "outputs": [],
   "source": [
    "#Perform tokenization (whitespace, punctuation- based, treebank, tweet, MWE) using NLTK library.\n",
    "#Use Porter stemmer and snowball stemmer for stemming.\n",
    "#Use any technique for lemmatization."
   ]
  },
  {
   "cell_type": "code",
   "execution_count": 2,
   "metadata": {},
   "outputs": [],
   "source": [
    "import nltk\n",
    "from nltk.tokenize import word_tokenize, sent_tokenize, TreebankWordTokenizer, TweetTokenizer, MWETokenizer\n",
    "from nltk.stem import PorterStemmer, SnowballStemmer\n",
    "from nltk.stem import WordNetLemmatizer"
   ]
  },
  {
   "cell_type": "code",
   "execution_count": 3,
   "metadata": {},
   "outputs": [
    {
     "name": "stderr",
     "output_type": "stream",
     "text": [
      "[nltk_data] Downloading package punkt to\n",
      "[nltk_data]     C:\\Users\\ganga\\AppData\\Roaming\\nltk_data...\n",
      "[nltk_data]   Package punkt is already up-to-date!\n",
      "[nltk_data] Downloading package wordnet to\n",
      "[nltk_data]     C:\\Users\\ganga\\AppData\\Roaming\\nltk_data...\n",
      "[nltk_data] Downloading package omw-1.4 to\n",
      "[nltk_data]     C:\\Users\\ganga\\AppData\\Roaming\\nltk_data...\n",
      "[nltk_data] Downloading package punkt_tab to\n",
      "[nltk_data]     C:\\Users\\ganga\\AppData\\Roaming\\nltk_data...\n",
      "[nltk_data]   Unzipping tokenizers\\punkt_tab.zip.\n"
     ]
    },
    {
     "data": {
      "text/plain": [
       "True"
      ]
     },
     "execution_count": 3,
     "metadata": {},
     "output_type": "execute_result"
    }
   ],
   "source": [
    "# Download necessary NLTK data\n",
    "nltk.download('punkt')\n",
    "nltk.download('wordnet')\n",
    "nltk.download('omw-1.4')\n",
    "nltk.download('punkt_tab')"
   ]
  },
  {
   "cell_type": "code",
   "execution_count": 4,
   "metadata": {},
   "outputs": [],
   "source": [
    "# Example text\n",
    "text = \"\"\"The Uniform Civil Code is not just a law; it’s a step towards equality, justice, and unity in a diverse nation like India.\"\"\""
   ]
  },
  {
   "cell_type": "code",
   "execution_count": 5,
   "metadata": {},
   "outputs": [
    {
     "data": {
      "text/plain": [
       "['The',\n",
       " 'Uniform',\n",
       " 'Civil',\n",
       " 'Code',\n",
       " 'is',\n",
       " 'not',\n",
       " 'just',\n",
       " 'a',\n",
       " 'law;',\n",
       " 'it’s',\n",
       " 'a',\n",
       " 'step',\n",
       " 'towards',\n",
       " 'equality,',\n",
       " 'justice,',\n",
       " 'and',\n",
       " 'unity',\n",
       " 'in',\n",
       " 'a',\n",
       " 'diverse',\n",
       " 'nation',\n",
       " 'like',\n",
       " 'India.']"
      ]
     },
     "execution_count": 5,
     "metadata": {},
     "output_type": "execute_result"
    }
   ],
   "source": [
    "# 1. Tokenization\n",
    "# Whitespace-based tokenization\n",
    "whitespace_tokens = text.split()\n",
    "whitespace_tokens"
   ]
  },
  {
   "cell_type": "code",
   "execution_count": 6,
   "metadata": {},
   "outputs": [
    {
     "data": {
      "text/plain": [
       "['The',\n",
       " 'Uniform',\n",
       " 'Civil',\n",
       " 'Code',\n",
       " 'is',\n",
       " 'not',\n",
       " 'just',\n",
       " 'a',\n",
       " 'law',\n",
       " ';',\n",
       " 'it',\n",
       " '’',\n",
       " 's',\n",
       " 'a',\n",
       " 'step',\n",
       " 'towards',\n",
       " 'equality',\n",
       " ',',\n",
       " 'justice',\n",
       " ',',\n",
       " 'and',\n",
       " 'unity',\n",
       " 'in',\n",
       " 'a',\n",
       " 'diverse',\n",
       " 'nation',\n",
       " 'like',\n",
       " 'India',\n",
       " '.']"
      ]
     },
     "execution_count": 6,
     "metadata": {},
     "output_type": "execute_result"
    }
   ],
   "source": [
    "# Punctuation-based tokenization using word_tokenize\n",
    "punctuation_tokens = word_tokenize(text)\n",
    "punctuation_tokens"
   ]
  },
  {
   "cell_type": "code",
   "execution_count": 7,
   "metadata": {},
   "outputs": [
    {
     "data": {
      "text/plain": [
       "['The',\n",
       " 'Uniform',\n",
       " 'Civil',\n",
       " 'Code',\n",
       " 'is',\n",
       " 'not',\n",
       " 'just',\n",
       " 'a',\n",
       " 'law',\n",
       " ';',\n",
       " 'it’s',\n",
       " 'a',\n",
       " 'step',\n",
       " 'towards',\n",
       " 'equality',\n",
       " ',',\n",
       " 'justice',\n",
       " ',',\n",
       " 'and',\n",
       " 'unity',\n",
       " 'in',\n",
       " 'a',\n",
       " 'diverse',\n",
       " 'nation',\n",
       " 'like',\n",
       " 'India',\n",
       " '.']"
      ]
     },
     "execution_count": 7,
     "metadata": {},
     "output_type": "execute_result"
    }
   ],
   "source": [
    "# Treebank tokenization\n",
    "treebank_tokenizer = TreebankWordTokenizer()\n",
    "treebank_tokens = treebank_tokenizer.tokenize(text)\n",
    "treebank_tokens"
   ]
  },
  {
   "cell_type": "code",
   "execution_count": 8,
   "metadata": {},
   "outputs": [
    {
     "data": {
      "text/plain": [
       "['The',\n",
       " 'Uniform',\n",
       " 'Civil',\n",
       " 'Code',\n",
       " 'is',\n",
       " 'not',\n",
       " 'just',\n",
       " 'a',\n",
       " 'law',\n",
       " ';',\n",
       " 'it',\n",
       " '’',\n",
       " 's',\n",
       " 'a',\n",
       " 'step',\n",
       " 'towards',\n",
       " 'equality',\n",
       " ',',\n",
       " 'justice',\n",
       " ',',\n",
       " 'and',\n",
       " 'unity',\n",
       " 'in',\n",
       " 'a',\n",
       " 'diverse',\n",
       " 'nation',\n",
       " 'like',\n",
       " 'India',\n",
       " '.']"
      ]
     },
     "execution_count": 8,
     "metadata": {},
     "output_type": "execute_result"
    }
   ],
   "source": [
    "# Tweet tokenization\n",
    "tweet_tokenizer = TweetTokenizer()\n",
    "tweet_tokens = tweet_tokenizer.tokenize(text)\n",
    "tweet_tokens"
   ]
  },
  {
   "cell_type": "code",
   "execution_count": 9,
   "metadata": {},
   "outputs": [
    {
     "data": {
      "text/plain": [
       "['The',\n",
       " 'Uniform_Civil_Code',\n",
       " 'is',\n",
       " 'not',\n",
       " 'just',\n",
       " 'a',\n",
       " 'law',\n",
       " ';',\n",
       " 'it',\n",
       " '’',\n",
       " 's',\n",
       " 'a',\n",
       " 'step',\n",
       " 'towards',\n",
       " 'equality',\n",
       " ',',\n",
       " 'justice',\n",
       " ',',\n",
       " 'and',\n",
       " 'unity',\n",
       " 'in',\n",
       " 'a',\n",
       " 'diverse_nation',\n",
       " 'like',\n",
       " 'India',\n",
       " '.']"
      ]
     },
     "execution_count": 9,
     "metadata": {},
     "output_type": "execute_result"
    }
   ],
   "source": [
    "# Define Multi-Word Expressions\n",
    "mwe_tokenizer = MWETokenizer([('Uniform', 'Civil', 'Code'), ('diverse', 'nation')])\n",
    "\n",
    "# Perform MWE tokenization\n",
    "mwe_tokens = mwe_tokenizer.tokenize(word_tokenize(text))\n",
    "\n",
    "mwe_tokens"
   ]
  },
  {
   "cell_type": "code",
   "execution_count": 10,
   "metadata": {},
   "outputs": [],
   "source": [
    "# 2. Stemming\n",
    "porter_stemmer = PorterStemmer()\n",
    "snowball_stemmer = SnowballStemmer(\"english\")"
   ]
  },
  {
   "cell_type": "code",
   "execution_count": 12,
   "metadata": {},
   "outputs": [],
   "source": [
    "porter_stems = [porter_stemmer.stem(word) for word in punctuation_tokens]\n",
    "snowball_stems = [snowball_stemmer.stem(word) for word in punctuation_tokens]"
   ]
  },
  {
   "cell_type": "code",
   "execution_count": 13,
   "metadata": {},
   "outputs": [
    {
     "name": "stdout",
     "output_type": "stream",
     "text": [
      "\n",
      "Porter Stemmer Results: ['the', 'uniform', 'civil', 'code', 'is', 'not', 'just', 'a', 'law', ';', 'it', '’', 's', 'a', 'step', 'toward', 'equal', ',', 'justic', ',', 'and', 'uniti', 'in', 'a', 'divers', 'nation', 'like', 'india', '.']\n"
     ]
    }
   ],
   "source": [
    "print(\"\\nPorter Stemmer Results:\", porter_stems)"
   ]
  },
  {
   "cell_type": "code",
   "execution_count": 14,
   "metadata": {},
   "outputs": [
    {
     "name": "stdout",
     "output_type": "stream",
     "text": [
      "Snowball Stemmer Results: ['the', 'uniform', 'civil', 'code', 'is', 'not', 'just', 'a', 'law', ';', 'it', '’', 's', 'a', 'step', 'toward', 'equal', ',', 'justic', ',', 'and', 'uniti', 'in', 'a', 'divers', 'nation', 'like', 'india', '.']\n"
     ]
    }
   ],
   "source": [
    "print(\"Snowball Stemmer Results:\", snowball_stems)"
   ]
  },
  {
   "cell_type": "code",
   "execution_count": 15,
   "metadata": {},
   "outputs": [],
   "source": [
    "# 3. Lemmatization\n",
    "lemmatizer = WordNetLemmatizer()\n",
    "lemmatized_words = [lemmatizer.lemmatize(word) for word in punctuation_tokens]"
   ]
  },
  {
   "cell_type": "code",
   "execution_count": 16,
   "metadata": {},
   "outputs": [
    {
     "name": "stdout",
     "output_type": "stream",
     "text": [
      "\n",
      "Lemmatization Results: ['The', 'Uniform', 'Civil', 'Code', 'is', 'not', 'just', 'a', 'law', ';', 'it', '’', 's', 'a', 'step', 'towards', 'equality', ',', 'justice', ',', 'and', 'unity', 'in', 'a', 'diverse', 'nation', 'like', 'India', '.']\n"
     ]
    }
   ],
   "source": [
    "print(\"\\nLemmatization Results:\", lemmatized_words)"
   ]
  }
 ],
 "metadata": {
  "kernelspec": {
   "display_name": "base",
   "language": "python",
   "name": "python3"
  },
  "language_info": {
   "codemirror_mode": {
    "name": "ipython",
    "version": 3
   },
   "file_extension": ".py",
   "mimetype": "text/x-python",
   "name": "python",
   "nbconvert_exporter": "python",
   "pygments_lexer": "ipython3",
   "version": "3.11.5"
  }
 },
 "nbformat": 4,
 "nbformat_minor": 2
}
